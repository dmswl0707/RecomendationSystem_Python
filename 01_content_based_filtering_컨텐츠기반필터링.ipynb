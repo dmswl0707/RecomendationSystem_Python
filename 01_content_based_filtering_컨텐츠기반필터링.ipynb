{
  "nbformat": 4,
  "nbformat_minor": 0,
  "metadata": {
    "colab": {
      "name": "01_content_based_filtering_컨텐츠기반필터링.ipynb",
      "provenance": [],
      "authorship_tag": "ABX9TyOd1sl/VAg4H5GYtED697Iq",
      "include_colab_link": true
    },
    "kernelspec": {
      "name": "python3",
      "display_name": "Python 3"
    }
  },
  "cells": [
    {
      "cell_type": "markdown",
      "metadata": {
        "id": "view-in-github",
        "colab_type": "text"
      },
      "source": [
        "<a href=\"https://colab.research.google.com/github/dmswl0707/RecomendationSystem_Python/blob/main/01_content_based_filtering_%EC%BB%A8%ED%85%90%EC%B8%A0%EA%B8%B0%EB%B0%98%ED%95%84%ED%84%B0%EB%A7%81.ipynb\" target=\"_parent\"><img src=\"https://colab.research.google.com/assets/colab-badge.svg\" alt=\"Open In Colab\"/></a>"
      ]
    },
    {
      "cell_type": "code",
      "metadata": {
        "colab": {
          "base_uri": "https://localhost:8080/",
          "height": 128
        },
        "id": "8m8XZ-v3Mn0F",
        "outputId": "7b556903-39ec-480e-9602-219b4986df61"
      },
      "source": [
        "import pandas as pd\n",
        "import numpy as np\n",
        "import matplotlib.pyplot as plt\n",
        "import seaborn as sns\n",
        "from ast import literal_eval\n",
        "from sklearn.feature_extraction.text import TfidfVectorizer\n",
        "from sklearn.feature_extraction.text import CountVectorizer\n",
        "from sklearn.metrics.pairwise import cosine_similarity\n",
        "from google.colab import drive\n",
        "drive.mount('/content/drive')\n",
        "data = pd.read_csv('/content/drive/My Drive/Colab Notebooks/data/RCS_data/01data_2.csv')\n",
        "data.head(2)"
      ],
      "execution_count": null,
      "outputs": [
        {
          "output_type": "stream",
          "text": [
            "Drive already mounted at /content/drive; to attempt to forcibly remount, call drive.mount(\"/content/drive\", force_remount=True).\n"
          ],
          "name": "stdout"
        },
        {
          "output_type": "execute_result",
          "data": {
            "text/html": [
              "<div>\n",
              "<style scoped>\n",
              "    .dataframe tbody tr th:only-of-type {\n",
              "        vertical-align: middle;\n",
              "    }\n",
              "\n",
              "    .dataframe tbody tr th {\n",
              "        vertical-align: top;\n",
              "    }\n",
              "\n",
              "    .dataframe thead th {\n",
              "        text-align: right;\n",
              "    }\n",
              "</style>\n",
              "<table border=\"1\" class=\"dataframe\">\n",
              "  <thead>\n",
              "    <tr style=\"text-align: right;\">\n",
              "      <th></th>\n",
              "      <th>id</th>\n",
              "      <th>genres</th>\n",
              "      <th>vote_average</th>\n",
              "      <th>vote_count</th>\n",
              "      <th>popularity</th>\n",
              "      <th>title</th>\n",
              "      <th>keywords</th>\n",
              "      <th>overview</th>\n",
              "      <th>score</th>\n",
              "    </tr>\n",
              "  </thead>\n",
              "  <tbody>\n",
              "    <tr>\n",
              "      <th>0</th>\n",
              "      <td>807</td>\n",
              "      <td>Crime Mystery Thriller</td>\n",
              "      <td>8.1</td>\n",
              "      <td>5915.0</td>\n",
              "      <td>18.457430</td>\n",
              "      <td>Se7en</td>\n",
              "      <td>self-fulfilling prophecy detective s.w.a.t. dr...</td>\n",
              "      <td>Two homicide detectives are on a desperate hun...</td>\n",
              "      <td>7.838691</td>\n",
              "    </tr>\n",
              "    <tr>\n",
              "      <th>1</th>\n",
              "      <td>629</td>\n",
              "      <td>Drama Crime Thriller</td>\n",
              "      <td>8.1</td>\n",
              "      <td>3334.0</td>\n",
              "      <td>16.302466</td>\n",
              "      <td>The Usual Suspects</td>\n",
              "      <td>law relatives theft criminal criminal mastermi...</td>\n",
              "      <td>Held in an L.A. interrogation room, Verbal Kin...</td>\n",
              "      <td>7.700533</td>\n",
              "    </tr>\n",
              "  </tbody>\n",
              "</table>\n",
              "</div>"
            ],
            "text/plain": [
              "    id  ...     score\n",
              "0  807  ...  7.838691\n",
              "1  629  ...  7.700533\n",
              "\n",
              "[2 rows x 9 columns]"
            ]
          },
          "metadata": {
            "tags": []
          },
          "execution_count": 5
        }
      ]
    },
    {
      "cell_type": "markdown",
      "metadata": {
        "id": "FsQDkNwVM7Wf"
      },
      "source": [
        "#콘텐츠 기반 필터링 추천\n",
        "컨텐츠 기반 필터링을 이용하여 비슷한 장르를 찾아 추천한다\n",
        "\n",
        "1. 코사인 유사도를 이용해 장르가 비슷한 영화를 추천 🌟🌟🌟\n",
        "2. vote_count가 높은 것을 이용하여 추천 🌟🌟🌟"
      ]
    },
    {
      "cell_type": "markdown",
      "metadata": {
        "id": "n9wV9PS7Nz6q"
      },
      "source": [
        "###문자열을 숫자로 벡터화"
      ]
    },
    {
      "cell_type": "code",
      "metadata": {
        "colab": {
          "base_uri": "https://localhost:8080/"
        },
        "id": "vMHBSxrJNL49",
        "outputId": "69ff5748-d567-4e57-c1e2-f7e688404901"
      },
      "source": [
        "data.genres.head(2)"
      ],
      "execution_count": null,
      "outputs": [
        {
          "output_type": "execute_result",
          "data": {
            "text/plain": [
              "0    Crime Mystery Thriller\n",
              "1      Drama Crime Thriller\n",
              "Name: genres, dtype: object"
            ]
          },
          "metadata": {
            "tags": []
          },
          "execution_count": 8
        }
      ]
    },
    {
      "cell_type": "markdown",
      "metadata": {
        "id": "5x9cH0yGcw0J"
      },
      "source": [
        "## scikit-learn 문서 전처리 기능\n",
        "- DictVectorizer : 각 단어의 수를 세어놓은 사전에서 BOW 인코딩 벡터를 만든다.(단어의 사용 빈도)\n",
        "- CountVectorizer : 문서 집합에서 단어 토큰을 생성하고 각 단어의 수를 세어 BOW 인코딩 벡터를 만든다.(토근 단위의 출현 빈도)\n",
        "- TfidfVectorizer: CountVectorizer와 비슷하지만 TF-IDF 방식으로 단어의 가중치를 조정한 BOW 인코딩 벡터를 만든다.\n",
        "- HashingVectorizer : 해시 함수(hash function)을 사용하여 적은 메모리와 빠른 속도로 BOW 인코딩 벡터를 만든다.\n",
        "\n",
        "### TF - IDF \n",
        "TF-IDF(Term Frequency – Inverse Document Frequency) 인코딩은 단어를 갯수 그대로 카운트하지 않고 모든 문서에 공통적으로 들어있는 단어의 경우 문서 구별 능력이 떨어진다고 보아 가중치를 축소하는 방법이다. \n",
        "   ### tf-idf(𝑑,𝑡)=tf(𝑑,𝑡)⋅idf(𝑡)\n",
        "- tf(𝑑,𝑡) : term frequency. 특정한 단어의 빈도수\n",
        "\n",
        "- idf(𝑡) : inverse document frequency. 특정한 단어가 들어 있는 문서의 수에 반비례하는 수\n",
        "- 𝑛 : 전체 문서의 수\n",
        "\n",
        "- df(𝑡): 단어 𝑡를 가진 문서의 수\n",
        "\n",
        "\n",
        "### CountVectorizer\n",
        "\n",
        "```\n",
        "corpus = ['This is the first document']\n",
        "vect = CountVectorizer(인수)\n",
        "vect.fit(corpus)\n",
        "vect.transforms(corpus).toarray()\n",
        "```\n",
        "\n",
        "출처 : https://datascienceschool.net/03%20machine%20learning/03.01.03%20Scikit-Learn%EC%9D%98%20%EB%AC%B8%EC%84%9C%20%EC%A0%84%EC%B2%98%EB%A6%AC%20%EA%B8%B0%EB%8A%A5.html\n",
        "\n",
        "\n"
      ]
    },
    {
      "cell_type": "code",
      "metadata": {
        "colab": {
          "base_uri": "https://localhost:8080/"
        },
        "id": "S7CxGgdHN5PN",
        "outputId": "d493b325-49a2-4414-b14d-c5163f32137e"
      },
      "source": [
        "count_vector = CountVectorizer(ngram_range=(1, 3))\n",
        "c_vector_genres = count_vector.fit_transform(data['genres'])\n",
        "c_vector_genres.shape"
      ],
      "execution_count": null,
      "outputs": [
        {
          "output_type": "execute_result",
          "data": {
            "text/plain": [
              "(485, 394)"
            ]
          },
          "metadata": {
            "tags": []
          },
          "execution_count": 18
        }
      ]
    },
    {
      "cell_type": "code",
      "metadata": {
        "colab": {
          "base_uri": "https://localhost:8080/"
        },
        "id": "gWGWqzcfOAsQ",
        "outputId": "896ef371-4eb7-4fde-c840-3867e5cbc5e9"
      },
      "source": [
        "# 단어를 벡터화하여 저장\n",
        "print(c_vector_genres)"
      ],
      "execution_count": null,
      "outputs": [
        {
          "output_type": "stream",
          "text": [
            "  (0, 152)\t1\n",
            "  (0, 328)\t1\n",
            "  (0, 363)\t1\n",
            "  (0, 167)\t1\n",
            "  (0, 337)\t1\n",
            "  (0, 169)\t1\n",
            "  (1, 152)\t1\n",
            "  (1, 363)\t1\n",
            "  (1, 174)\t1\n",
            "  (1, 185)\t1\n",
            "  (1, 172)\t1\n",
            "  (1, 186)\t1\n",
            "  (2, 152)\t1\n",
            "  (2, 363)\t1\n",
            "  (2, 311)\t1\n",
            "  (2, 0)\t1\n",
            "  (2, 312)\t1\n",
            "  (2, 44)\t1\n",
            "  (2, 371)\t1\n",
            "  (2, 314)\t1\n",
            "  (2, 46)\t1\n",
            "  (3, 0)\t1\n",
            "  (3, 53)\t1\n",
            "  (3, 353)\t1\n",
            "  (3, 280)\t1\n",
            "  :\t:\n",
            "  (482, 106)\t1\n",
            "  (482, 83)\t1\n",
            "  (482, 12)\t1\n",
            "  (482, 13)\t1\n",
            "  (483, 174)\t1\n",
            "  (483, 353)\t1\n",
            "  (483, 280)\t1\n",
            "  (483, 354)\t1\n",
            "  (483, 388)\t1\n",
            "  (483, 210)\t1\n",
            "  (483, 211)\t1\n",
            "  (483, 303)\t1\n",
            "  (483, 362)\t1\n",
            "  (484, 363)\t1\n",
            "  (484, 174)\t1\n",
            "  (484, 0)\t1\n",
            "  (484, 304)\t1\n",
            "  (484, 388)\t1\n",
            "  (484, 192)\t1\n",
            "  (484, 23)\t1\n",
            "  (484, 386)\t1\n",
            "  (484, 308)\t1\n",
            "  (484, 24)\t1\n",
            "  (484, 194)\t1\n",
            "  (484, 309)\t1\n"
          ],
          "name": "stdout"
        }
      ]
    },
    {
      "cell_type": "code",
      "metadata": {
        "colab": {
          "base_uri": "https://localhost:8080/"
        },
        "id": "OhNPOiYNOefL",
        "outputId": "83622d14-9e81-4f15-ae20-009ed632d156"
      },
      "source": [
        "#코사인유사도를 구한 값을 변수에 미리 저장\n",
        "gerne_c_sim = cosine_similarity(c_vector_genres, c_vector_genres).argsort()[:, ::-1]\n",
        "gerne_c_sim.shape"
      ],
      "execution_count": null,
      "outputs": [
        {
          "output_type": "execute_result",
          "data": {
            "text/plain": [
              "(485, 485)"
            ]
          },
          "metadata": {
            "tags": []
          },
          "execution_count": 13
        }
      ]
    },
    {
      "cell_type": "code",
      "metadata": {
        "colab": {
          "base_uri": "https://localhost:8080/"
        },
        "id": "fBTj6564P9Dw",
        "outputId": "683e9fc0-b8d2-4737-c2e4-3c568d55f901"
      },
      "source": [
        "print(gerne_c_sim)"
      ],
      "execution_count": null,
      "outputs": [
        {
          "output_type": "stream",
          "text": [
            "[[  0  59 440 ... 262 264 216]\n",
            " [  1 303 334 ... 178 345 409]\n",
            " [  2 154 105 ... 241 129 139]\n",
            " ...\n",
            " [482 432 332 ... 265 260   0]\n",
            " [483 285 363 ... 316 318   0]\n",
            " [484 336 416 ... 314 134 211]]\n"
          ],
          "name": "stdout"
        }
      ]
    },
    {
      "cell_type": "markdown",
      "metadata": {
        "id": "qgqqk20Rk_9L"
      },
      "source": [
        "## 함수 구성\n",
        "1. 입력하는 영화 이름의 값을 타겟으로 설정\n",
        "2. 타켓 영화와 코사인 유사도로 유사한 정보를 영화를 뽑는다.\n",
        "3. 유사 영화 리스트에서 평점이 높은 순으로 출력한다."
      ]
    },
    {
      "cell_type": "code",
      "metadata": {
        "id": "611KpCE0O5ow"
      },
      "source": [
        "#비슷한 영화를 리스트로 반환해주는 함수를 만든다\n",
        "\n",
        "def get_recommend_movie_list(df, movie_title, top=30):\n",
        "    # 특정 영화와 비슷한 영화를 추천해야 하기 때문에 '특정 영화' 값를 뽑아낸다.\n",
        "    target_movie_index = df[df['title'] == movie_title].index.values\n",
        "    \n",
        "    #코사인 유사도 중 비슷한 코사인 유사도를 가진 정보를 뽑아낸다.\n",
        "    sim_index = gerne_c_sim[target_movie_index, :top].reshape(-1)\n",
        "    #본인을 제외\n",
        "    sim_index = sim_index[sim_index != target_movie_index]\n",
        "\n",
        "    #data frame으로 만들고 score으로 정렬한 뒤 return\n",
        "    result = df.iloc[sim_index].sort_values('score', ascending=False)[:5]\n",
        "    return result"
      ],
      "execution_count": null,
      "outputs": []
    },
    {
      "cell_type": "code",
      "metadata": {
        "colab": {
          "base_uri": "https://localhost:8080/",
          "height": 289
        },
        "id": "OR4gUTWaPYkY",
        "outputId": "51fe0368-c228-4784-c333-ea9130720fa4"
      },
      "source": [
        "get_recommend_movie_list(data, movie_title='The Dark Knight Rises')"
      ],
      "execution_count": null,
      "outputs": [
        {
          "output_type": "execute_result",
          "data": {
            "text/html": [
              "<div>\n",
              "<style scoped>\n",
              "    .dataframe tbody tr th:only-of-type {\n",
              "        vertical-align: middle;\n",
              "    }\n",
              "\n",
              "    .dataframe tbody tr th {\n",
              "        vertical-align: top;\n",
              "    }\n",
              "\n",
              "    .dataframe thead th {\n",
              "        text-align: right;\n",
              "    }\n",
              "</style>\n",
              "<table border=\"1\" class=\"dataframe\">\n",
              "  <thead>\n",
              "    <tr style=\"text-align: right;\">\n",
              "      <th></th>\n",
              "      <th>id</th>\n",
              "      <th>genres</th>\n",
              "      <th>vote_average</th>\n",
              "      <th>vote_count</th>\n",
              "      <th>popularity</th>\n",
              "      <th>title</th>\n",
              "      <th>keywords</th>\n",
              "      <th>overview</th>\n",
              "      <th>score</th>\n",
              "    </tr>\n",
              "  </thead>\n",
              "  <tbody>\n",
              "    <tr>\n",
              "      <th>149</th>\n",
              "      <td>155</td>\n",
              "      <td>Drama Action Crime Thriller</td>\n",
              "      <td>8.3</td>\n",
              "      <td>12269.0</td>\n",
              "      <td>123.167259</td>\n",
              "      <td>The Dark Knight</td>\n",
              "      <td>dc comics crime fighter secret identity scarec...</td>\n",
              "      <td>Batman raises the stakes in his war on crime. ...</td>\n",
              "      <td>8.136459</td>\n",
              "    </tr>\n",
              "    <tr>\n",
              "      <th>333</th>\n",
              "      <td>106646</td>\n",
              "      <td>Crime Drama Comedy</td>\n",
              "      <td>7.9</td>\n",
              "      <td>6768.0</td>\n",
              "      <td>16.382422</td>\n",
              "      <td>The Wolf of Wall Street</td>\n",
              "      <td>based on novel drug dealer ex-cop rural settin...</td>\n",
              "      <td>A New York stockbroker refuses to cooperate in...</td>\n",
              "      <td>7.702718</td>\n",
              "    </tr>\n",
              "    <tr>\n",
              "      <th>420</th>\n",
              "      <td>264644</td>\n",
              "      <td>Drama Thriller</td>\n",
              "      <td>8.1</td>\n",
              "      <td>2838.0</td>\n",
              "      <td>12.443291</td>\n",
              "      <td>Room</td>\n",
              "      <td>NaN</td>\n",
              "      <td>Jack is a young boy of 5 years old who has liv...</td>\n",
              "      <td>7.655355</td>\n",
              "    </tr>\n",
              "    <tr>\n",
              "      <th>125</th>\n",
              "      <td>1422</td>\n",
              "      <td>Drama Thriller Crime</td>\n",
              "      <td>7.9</td>\n",
              "      <td>4455.0</td>\n",
              "      <td>18.515448</td>\n",
              "      <td>The Departed</td>\n",
              "      <td>undercover boston police friends mafia underco...</td>\n",
              "      <td>To take down South Boston's Irish Mafia, the p...</td>\n",
              "      <td>7.626700</td>\n",
              "    </tr>\n",
              "    <tr>\n",
              "      <th>325</th>\n",
              "      <td>146233</td>\n",
              "      <td>Drama Thriller Crime</td>\n",
              "      <td>7.9</td>\n",
              "      <td>3183.0</td>\n",
              "      <td>11.962620</td>\n",
              "      <td>Prisoners</td>\n",
              "      <td>prison brother brother relationship drug deale...</td>\n",
              "      <td>When Keller Dover's daughter and her friend go...</td>\n",
              "      <td>7.553214</td>\n",
              "    </tr>\n",
              "  </tbody>\n",
              "</table>\n",
              "</div>"
            ],
            "text/plain": [
              "         id  ...     score\n",
              "149     155  ...  8.136459\n",
              "333  106646  ...  7.702718\n",
              "420  264644  ...  7.655355\n",
              "125    1422  ...  7.626700\n",
              "325  146233  ...  7.553214\n",
              "\n",
              "[5 rows x 9 columns]"
            ]
          },
          "metadata": {
            "tags": []
          },
          "execution_count": 23
        }
      ]
    }
  ]
}