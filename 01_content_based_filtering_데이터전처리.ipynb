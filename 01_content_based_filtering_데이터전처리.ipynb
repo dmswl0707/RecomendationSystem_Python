{
  "nbformat": 4,
  "nbformat_minor": 0,
  "metadata": {
    "colab": {
      "name": "01_content_based_filtering.ipynb",
      "private_outputs": true,
      "provenance": [],
      "authorship_tag": "ABX9TyMUz3QVraenv0CqPfHpYtnt",
      "include_colab_link": true
    },
    "kernelspec": {
      "name": "python3",
      "display_name": "Python 3"
    }
  },
  "cells": [
    {
      "cell_type": "markdown",
      "metadata": {
        "id": "view-in-github",
        "colab_type": "text"
      },
      "source": [
        "<a href=\"https://colab.research.google.com/github/dmswl0707/Recommendation_system_Python/blob/main/01_content_based_filtering.ipynb\" target=\"_parent\"><img src=\"https://colab.research.google.com/assets/colab-badge.svg\" alt=\"Open In Colab\"/></a>"
      ]
    },
    {
      "cell_type": "code",
      "metadata": {
        "id": "wwOn2-Aw8Wy_"
      },
      "source": [
        "import pandas as pd\n",
        "import numpy as np\n",
        "import matplotlib.pyplot as plt\n",
        "import seaborn as sns\n",
        "from ast import literal_eval\n",
        "from sklearn.feature_extraction.text import TfidfVectorizer\n",
        "from sklearn.feature_extraction.text import CountVectorizer\n",
        "from sklearn.metrics.pairwise import cosine_similarity\n",
        "\n"
      ],
      "execution_count": null,
      "outputs": []
    },
    {
      "cell_type": "code",
      "metadata": {
        "id": "w5Gm0KUh-GiI"
      },
      "source": [
        "from google.colab import drive\n",
        "drive.mount('/content/drive')\n",
        "\n",
        "data = pd.read_csv('/content/drive/My Drive/Colab Notebooks/data/RCS_data/movies_metadata.csv')\n",
        "data2 = pd.read_csv('/content/drive/My Drive/Colab Notebooks/data/RCS_data/keywords.csv')\n",
        "\n",
        "data.head(5)"
      ],
      "execution_count": null,
      "outputs": []
    },
    {
      "cell_type": "markdown",
      "metadata": {
        "id": "7n9JyWR1ZOMx"
      },
      "source": [
        "#필요한 컬럼 데이터만 추출 \n",
        "- data['columns']\n",
        "- data.loc[:,['columns']]"
      ]
    },
    {
      "cell_type": "code",
      "metadata": {
        "id": "ixnWLYL2JSjq"
      },
      "source": [
        "data = data[['budget','genres','homepage','id','original_language','original_title','overview','popularity','production_companies','production_countries','release_date','revenue','runtime','spoken_languages','status','tagline','title','vote_average','vote_count']]\n",
        "data.head(5)\n",
        "#data.info()"
      ],
      "execution_count": null,
      "outputs": []
    },
    {
      "cell_type": "code",
      "metadata": {
        "id": "mfQ1kAUvQ1YB"
      },
      "source": [
        "data2.head(5)\n",
        "#data2.info()"
      ],
      "execution_count": null,
      "outputs": []
    },
    {
      "cell_type": "markdown",
      "metadata": {
        "id": "N2HTmXA1a6--"
      },
      "source": [
        "# 두 데이터 합치기\n",
        "**df = pd.cancat([data1, data2], axis = 1)**  OR\n",
        "**df =pd.merge(data1, data2)**\n",
        "- reset_index(drop = True) 인덱스 무시하기 (인덱스로 인한 결측치 발생 피기 위함)\n"
      ]
    },
    {
      "cell_type": "code",
      "metadata": {
        "id": "at-KX4jfOZDl"
      },
      "source": [
        "df = pd.concat([data.reset_index(drop=True), data2.reset_index(drop=True)], axis = 1)\n",
        "df.head(10)"
      ],
      "execution_count": null,
      "outputs": []
    }
  ]
}
