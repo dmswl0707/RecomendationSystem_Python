{
  "nbformat": 4,
  "nbformat_minor": 0,
  "metadata": {
    "colab": {
      "name": "02_item based collaborative filtering_코사인유사도측정ver2.ipynb",
      "private_outputs": true,
      "provenance": [],
      "authorship_tag": "ABX9TyPJ7GzQLZ83gofaQ/n6dWDz",
      "include_colab_link": true
    },
    "kernelspec": {
      "name": "python3",
      "display_name": "Python 3"
    },
    "language_info": {
      "name": "python"
    }
  },
  "cells": [
    {
      "cell_type": "markdown",
      "metadata": {
        "id": "view-in-github",
        "colab_type": "text"
      },
      "source": [
        "<a href=\"https://colab.research.google.com/github/dmswl0707/RecomendationSystem_Python/blob/main/02_item_based_collaborative_filtering_%EC%BD%94%EC%82%AC%EC%9D%B8%EC%9C%A0%EC%82%AC%EB%8F%84%EC%B8%A1%EC%A0%95ver2.ipynb\" target=\"_parent\"><img src=\"https://colab.research.google.com/assets/colab-badge.svg\" alt=\"Open In Colab\"/></a>"
      ]
    },
    {
      "cell_type": "code",
      "metadata": {
        "id": "PSqTeAMObE24"
      },
      "source": [
        "from google.colab import drive\n",
        "import pandas as pd\n",
        "\n",
        "\n",
        "drive.mount('/content/drive')\n",
        "\n",
        "data_dir = '/content/drive/My Drive/Colab Notebooks/data/movie_lens/ratings.csv'\n",
        "data_dir2 = '/content/drive/My Drive/Colab Notebooks/data/movie_lens/movies.csv'\n",
        "rating_data = pd.read_csv(data_dir)\n",
        "movie_data = pd.read_csv(data_dir2)\n"
      ],
      "execution_count": null,
      "outputs": []
    },
    {
      "cell_type": "code",
      "metadata": {
        "id": "9EQcvs47buvK"
      },
      "source": [
        "rating_data.head()"
      ],
      "execution_count": null,
      "outputs": []
    },
    {
      "cell_type": "code",
      "metadata": {
        "id": "9sULayNOas9b"
      },
      "source": [
        "movie_data.head()"
      ],
      "execution_count": null,
      "outputs": []
    },
    {
      "cell_type": "code",
      "metadata": {
        "id": "zo8b8wkyZqlS"
      },
      "source": [
        "rating_data.drop('timestamp', axis=1, inplace=True)\n",
        "rating_data.head()"
      ],
      "execution_count": null,
      "outputs": []
    },
    {
      "cell_type": "code",
      "metadata": {
        "id": "2fAP7jH0Z9Je"
      },
      "source": [
        "user_movie_rating = pd.merge(rating_data, movie_data, on = 'movieId')"
      ],
      "execution_count": null,
      "outputs": []
    },
    {
      "cell_type": "code",
      "metadata": {
        "id": "L2Qj7EqlaCDV"
      },
      "source": [
        "#movie-user rate(영화별 사용자의 평점)\n",
        "movie_user_rating = user_movie_rating.pivot_table('rating', index = 'title', columns='userId')"
      ],
      "execution_count": null,
      "outputs": []
    },
    {
      "cell_type": "code",
      "metadata": {
        "id": "i-o7OQlRb5Ww"
      },
      "source": [
        "#user-movie rate(사용자별 영화들 평점)\n",
        "user_movie_rating = user_movie_rating.pivot_table('rating', index = 'userId', columns='title')"
      ],
      "execution_count": null,
      "outputs": []
    },
    {
      "cell_type": "code",
      "metadata": {
        "id": "j31gnSpscJGY"
      },
      "source": [
        "user_movie_rating.head()"
      ],
      "execution_count": null,
      "outputs": []
    },
    {
      "cell_type": "code",
      "metadata": {
        "id": "68L2PYr4cNH0"
      },
      "source": [
        "movie_user_rating.head()"
      ],
      "execution_count": null,
      "outputs": []
    },
    {
      "cell_type": "code",
      "metadata": {
        "id": "q_y_zRtDcTbJ"
      },
      "source": [
        "#영화별 사용자들의 평점\n",
        "movie_user_rating.fillna(0, inplace=True)\n",
        "movie_user_rating.head()"
      ],
      "execution_count": null,
      "outputs": []
    },
    {
      "cell_type": "markdown",
      "metadata": {
        "id": "l7wfvGq-fG-7"
      },
      "source": [
        "### (평점 기반) 한 영화에 대한 다른 영화의 유사도 측정\n",
        ": 각 영화에 대한 평점 유사도\n"
      ]
    },
    {
      "cell_type": "code",
      "metadata": {
        "id": "MiECPjN_dFJy"
      },
      "source": [
        "from sklearn.metrics.pairwise import cosine_similarity\n",
        "\n",
        "item_based_collabor = cosine_similarity(movie_user_rating)\n",
        "print(item_based_collabor)"
      ],
      "execution_count": null,
      "outputs": []
    },
    {
      "cell_type": "code",
      "metadata": {
        "id": "vHlj2bCOelw-"
      },
      "source": [
        "print(movie_user_rating.shape)\n",
        "print(item_based_collabor.shape)"
      ],
      "execution_count": null,
      "outputs": []
    },
    {
      "cell_type": "code",
      "metadata": {
        "id": "qJxeCk_9fBSu"
      },
      "source": [
        "item_based_collabor = pd.DataFrame(data = item_based_collabor, index=movie_user_rating.index, columns = movie_user_rating.index)"
      ],
      "execution_count": null,
      "outputs": []
    },
    {
      "cell_type": "code",
      "metadata": {
        "id": "2syJ6Dcif1VI"
      },
      "source": [
        "item_based_collabor.head()"
      ],
      "execution_count": null,
      "outputs": []
    },
    {
      "cell_type": "code",
      "metadata": {
        "id": "tSr1s8oOf4Lq"
      },
      "source": [
        "item_based_collabor.shape"
      ],
      "execution_count": null,
      "outputs": []
    },
    {
      "cell_type": "code",
      "metadata": {
        "id": "hozhwrHngYnV"
      },
      "source": [
        "def get_item_based_collabor(title):\n",
        "    return item_based_collabor[title].sort_values(ascending=False)[:6]"
      ],
      "execution_count": null,
      "outputs": []
    },
    {
      "cell_type": "code",
      "metadata": {
        "id": "ogG95Jlqgq0l"
      },
      "source": [
        "get_item_based_collabor('\"Great Performances\" Cats (1998)')"
      ],
      "execution_count": null,
      "outputs": []
    },
    {
      "cell_type": "code",
      "metadata": {
        "id": "KsrQ3xAfgwdU"
      },
      "source": [
        ""
      ],
      "execution_count": null,
      "outputs": []
    }
  ]
}