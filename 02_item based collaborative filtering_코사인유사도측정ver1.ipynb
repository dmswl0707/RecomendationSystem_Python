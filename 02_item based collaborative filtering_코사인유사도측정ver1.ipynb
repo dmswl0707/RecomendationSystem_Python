{
  "nbformat": 4,
  "nbformat_minor": 0,
  "metadata": {
    "colab": {
      "name": "Untitled1.ipynb",
      "private_outputs": true,
      "provenance": [],
      "authorship_tag": "ABX9TyPfe7DcGCXnr0zuvy/Iiwq8",
      "include_colab_link": true
    },
    "kernelspec": {
      "name": "python3",
      "display_name": "Python 3"
    },
    "language_info": {
      "name": "python"
    }
  },
  "cells": [
    {
      "cell_type": "markdown",
      "metadata": {
        "id": "view-in-github",
        "colab_type": "text"
      },
      "source": [
        "<a href=\"https://colab.research.google.com/github/dmswl0707/RecomendationSystem_Python/blob/main/02_item%20based%20collaborative%20filtering_%EC%BD%94%EC%82%AC%EC%9D%B8%EC%9C%A0%EC%82%AC%EB%8F%84%EC%B8%A1%EC%A0%95ver1.ipynb\" target=\"_parent\"><img src=\"https://colab.research.google.com/assets/colab-badge.svg\" alt=\"Open In Colab\"/></a>"
      ]
    },
    {
      "cell_type": "code",
      "metadata": {
        "id": "0BrMUo5EmzN9"
      },
      "source": [
        "import pandas as pd\n",
        "import numpy as np\n",
        "import matplotlib.pyplot as plt\n",
        "import seaborn as sns\n",
        "from ast import literal_eval\n",
        "from sklearn.feature_extraction.text import TfidfVectorizer\n",
        "from sklearn.feature_extraction.text import CountVectorizer\n",
        "from sklearn.metrics.pairwise import cosine_similarity"
      ],
      "execution_count": null,
      "outputs": []
    },
    {
      "cell_type": "markdown",
      "metadata": {
        "id": "4znhGi532svh"
      },
      "source": [
        "##아이템 기반 협업필터링\n",
        "사용자-아이템 피봇테이블을 이용,\n",
        "사용자별 아이템을 추출한다."
      ]
    },
    {
      "cell_type": "markdown",
      "metadata": {
        "id": "HjKOM11E2p_f"
      },
      "source": [
        "### 데이터 전처리\n",
        "- 피봇테이블 정렬\n",
        "- 메타데이터 정리\n",
        "- 데이터프레임 생성"
      ]
    },
    {
      "cell_type": "code",
      "metadata": {
        "id": "wvn4-gOEoGri"
      },
      "source": [
        "from google.colab import drive\n",
        "drive.mount('/content/drive')\n",
        "\n",
        "data_dir ='/content/drive/My Drive/Colab Notebooks/data/RCS_data/ratings_small.csv'\n",
        "data = pd.read_csv(data_dir)\n",
        "data.head(5)"
      ],
      "execution_count": null,
      "outputs": []
    },
    {
      "cell_type": "code",
      "metadata": {
        "id": "YE70sHpjpdU4"
      },
      "source": [
        "data = data.pivot_table('rating', index='userId', columns='movieId') #값은 rating , 행 index, 열 columns (사용자 아이디별 영화 평점)\n",
        "data.head()\n"
      ],
      "execution_count": null,
      "outputs": []
    },
    {
      "cell_type": "code",
      "metadata": {
        "id": "y9nnnl0EsNsY"
      },
      "source": [
        "print(data.shape)"
      ],
      "execution_count": null,
      "outputs": []
    },
    {
      "cell_type": "code",
      "metadata": {
        "id": "qLz-usR0tKsn"
      },
      "source": [
        "rating = pd.read_csv('/content/drive/My Drive/Colab Notebooks/data/RCS_data/ratings_small.csv')\n",
        "movies_metadata = pd.read_csv('/content/drive/My Drive/Colab Notebooks/data/RCS_data/movies_metadata.csv')"
      ],
      "execution_count": null,
      "outputs": []
    },
    {
      "cell_type": "code",
      "metadata": {
        "id": "7rc3yDidu48R"
      },
      "source": [
        "#movie title를 추출해서 추가\n",
        "movies_metadata.head(1)\n",
        "#movies_metadata.shape\n",
        "#정제된 tmdb_5000_movies.csv의 형태를 알 수 없으나, title을 추가하고 싶기 때문에 자세히 알지 않아도 된다."
      ],
      "execution_count": null,
      "outputs": []
    },
    {
      "cell_type": "code",
      "metadata": {
        "id": "07m6rhyzwoGZ"
      },
      "source": [
        "movies = movies_metadata[['budget','genres','homepage','id','original_language','original_title','production_countries','release_date','revenue','runtime','spoken_languages','status','tagline','title','vote_average','vote_count']]\n",
        "movies.rename(columns={'id':'movieId'}, inplace = True)\n",
        "movies.head(5)"
      ],
      "execution_count": null,
      "outputs": []
    },
    {
      "cell_type": "code",
      "metadata": {
        "id": "HYS-UkcFVXpc"
      },
      "source": [
        "#merge 해주기 위한 조건(데이터 타입 변경, ID와 상관없는 datetime 값 삭제)\n",
        "movies['movieId']=movies['movieId'].replace(['1997-08-20', '2012-09-29','2014-01-01'], 0)\n",
        "movies['movieId']=movies['movieId'].astype(int)"
      ],
      "execution_count": null,
      "outputs": []
    },
    {
      "cell_type": "code",
      "metadata": {
        "id": "WhVohKS2x76H"
      },
      "source": [
        "ratings_movies = pd.merge(rating, movies, on = 'movieId')\n",
        "ratings_movies.head(5)"
      ],
      "execution_count": null,
      "outputs": []
    },
    {
      "cell_type": "code",
      "metadata": {
        "id": "e8NWeYXJ0knP"
      },
      "source": [
        "ratings_movies.shape"
      ],
      "execution_count": null,
      "outputs": []
    },
    {
      "cell_type": "code",
      "metadata": {
        "id": "xzYD3b5N0yxc"
      },
      "source": [
        "data2 = ratings_movies.pivot_table('rating', index = 'userId', columns = 'original_title').fillna(0)\n",
        "data2.head(5)"
      ],
      "execution_count": null,
      "outputs": []
    },
    {
      "cell_type": "code",
      "metadata": {
        "id": "bWTcJBSjPAVA"
      },
      "source": [
        "data3 = data2.transpose()\n",
        "data3.head(5)\n"
      ],
      "execution_count": null,
      "outputs": []
    },
    {
      "cell_type": "code",
      "metadata": {
        "id": "51fHOmyKgXLh"
      },
      "source": [
        "movie_sim = cosine_similarity(data3, data3)\n",
        "print(movie_sim.shape)"
      ],
      "execution_count": null,
      "outputs": []
    },
    {
      "cell_type": "code",
      "metadata": {
        "id": "7KW3dAE-glV2"
      },
      "source": [
        "movie_sim_df = pd.DataFrame(data=movie_sim, index=data3.index, columns=data3.index)\n",
        "movie_sim_df.head(3)"
      ],
      "execution_count": null,
      "outputs": []
    },
    {
      "cell_type": "code",
      "metadata": {
        "id": "sVVIeSqDhIsi"
      },
      "source": [
        "movie_sim_df['최종병기 활'].sort_values(ascending=False)[1:5]"
      ],
      "execution_count": null,
      "outputs": []
    },
    {
      "cell_type": "code",
      "metadata": {
        "id": "N3_rc2VPhaq6"
      },
      "source": [
        "movie_sim_df[\"Harry Potter and the Half-Blood Prince\"].sort_values(ascending=False)[1:5]"
      ],
      "execution_count": null,
      "outputs": []
    },
    {
      "cell_type": "code",
      "metadata": {
        "id": "5ct59jOKhihn"
      },
      "source": [
        ""
      ],
      "execution_count": null,
      "outputs": []
    }
  ]
}