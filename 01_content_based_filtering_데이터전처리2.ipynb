{
  "nbformat": 4,
  "nbformat_minor": 0,
  "metadata": {
    "colab": {
      "name": "01_content_based_filtering_데이터전처리2.ipynb",
      "provenance": [],
      "authorship_tag": "ABX9TyPoSXtRjwXlfPiF9sMsj0MD",
      "include_colab_link": true
    },
    "kernelspec": {
      "name": "python3",
      "display_name": "Python 3"
    }
  },
  "cells": [
    {
      "cell_type": "markdown",
      "metadata": {
        "id": "view-in-github",
        "colab_type": "text"
      },
      "source": [
        "<a href=\"https://colab.research.google.com/github/dmswl0707/RecomendationSystem_Python/blob/main/01_content_based_filtering_%EB%8D%B0%EC%9D%B4%ED%84%B0%EC%A0%84%EC%B2%98%EB%A6%AC2.ipynb\" target=\"_parent\"><img src=\"https://colab.research.google.com/assets/colab-badge.svg\" alt=\"Open In Colab\"/></a>"
      ]
    },
    {
      "cell_type": "code",
      "metadata": {
        "id": "p3-6d5mHrAnk"
      },
      "source": [
        "import pandas as pd\n",
        "import numpy as np\n",
        "import matplotlib.pyplot as plt\n",
        "import seaborn as sns\n",
        "from ast import literal_eval\n",
        "from sklearn.feature_extraction.text import TfidfVectorizer\n",
        "from sklearn.feature_extraction.text import CountVectorizer\n",
        "from sklearn.metrics.pairwise import cosine_similarity"
      ],
      "execution_count": 44,
      "outputs": []
    },
    {
      "cell_type": "code",
      "metadata": {
        "colab": {
          "base_uri": "https://localhost:8080/",
          "height": 335
        },
        "id": "mTMlW7SPrZsR",
        "outputId": "d8614796-ae3b-4bd9-b8e4-a23a964b3058"
      },
      "source": [
        "from google.colab import drive\n",
        "drive.mount('/content/drive')\n",
        "data = pd.read_csv('/content/drive/My Drive/Colab Notebooks/data/RCS_data/01data.csv')\n",
        "data.head(2)"
      ],
      "execution_count": 45,
      "outputs": [
        {
          "output_type": "stream",
          "text": [
            "Drive already mounted at /content/drive; to attempt to forcibly remount, call drive.mount(\"/content/drive\", force_remount=True).\n"
          ],
          "name": "stdout"
        },
        {
          "output_type": "execute_result",
          "data": {
            "text/html": [
              "<div>\n",
              "<style scoped>\n",
              "    .dataframe tbody tr th:only-of-type {\n",
              "        vertical-align: middle;\n",
              "    }\n",
              "\n",
              "    .dataframe tbody tr th {\n",
              "        vertical-align: top;\n",
              "    }\n",
              "\n",
              "    .dataframe thead th {\n",
              "        text-align: right;\n",
              "    }\n",
              "</style>\n",
              "<table border=\"1\" class=\"dataframe\">\n",
              "  <thead>\n",
              "    <tr style=\"text-align: right;\">\n",
              "      <th></th>\n",
              "      <th>Unnamed: 0</th>\n",
              "      <th>budget</th>\n",
              "      <th>genres</th>\n",
              "      <th>homepage</th>\n",
              "      <th>id</th>\n",
              "      <th>original_language</th>\n",
              "      <th>original_title</th>\n",
              "      <th>overview</th>\n",
              "      <th>popularity</th>\n",
              "      <th>production_companies</th>\n",
              "      <th>production_countries</th>\n",
              "      <th>release_date</th>\n",
              "      <th>revenue</th>\n",
              "      <th>runtime</th>\n",
              "      <th>spoken_languages</th>\n",
              "      <th>status</th>\n",
              "      <th>tagline</th>\n",
              "      <th>title</th>\n",
              "      <th>vote_average</th>\n",
              "      <th>vote_count</th>\n",
              "      <th>keywords</th>\n",
              "    </tr>\n",
              "  </thead>\n",
              "  <tbody>\n",
              "    <tr>\n",
              "      <th>0</th>\n",
              "      <td>9</td>\n",
              "      <td>58000000</td>\n",
              "      <td>[{'id': 12, 'name': 'Adventure'}, {'id': 28, '...</td>\n",
              "      <td>http://www.mgm.com/view/movie/757/Goldeneye/</td>\n",
              "      <td>710</td>\n",
              "      <td>en</td>\n",
              "      <td>GoldenEye</td>\n",
              "      <td>James Bond must unmask the mysterious head of ...</td>\n",
              "      <td>14.686036</td>\n",
              "      <td>[{'name': 'United Artists', 'id': 60}, {'name'...</td>\n",
              "      <td>[{'iso_3166_1': 'GB', 'name': 'United Kingdom'...</td>\n",
              "      <td>1995-11-16</td>\n",
              "      <td>352194034.0</td>\n",
              "      <td>130.0</td>\n",
              "      <td>[{'iso_639_1': 'en', 'name': 'English'}, {'iso...</td>\n",
              "      <td>Released</td>\n",
              "      <td>No limits. No fears. No substitutes.</td>\n",
              "      <td>GoldenEye</td>\n",
              "      <td>6.6</td>\n",
              "      <td>1194.0</td>\n",
              "      <td>[{'id': 701, 'name': 'cuba'}, {'id': 769, 'nam...</td>\n",
              "    </tr>\n",
              "    <tr>\n",
              "      <th>1</th>\n",
              "      <td>24</td>\n",
              "      <td>3600000</td>\n",
              "      <td>[{'id': 18, 'name': 'Drama'}, {'id': 10749, 'n...</td>\n",
              "      <td>http://www.mgm.com/title_title.do?title_star=L...</td>\n",
              "      <td>451</td>\n",
              "      <td>en</td>\n",
              "      <td>Leaving Las Vegas</td>\n",
              "      <td>Ben Sanderson, an alcoholic Hollywood screenwr...</td>\n",
              "      <td>10.332025</td>\n",
              "      <td>[{'name': 'United Artists', 'id': 60}, {'name'...</td>\n",
              "      <td>[{'iso_3166_1': 'US', 'name': 'United States o...</td>\n",
              "      <td>1995-10-27</td>\n",
              "      <td>49800000.0</td>\n",
              "      <td>112.0</td>\n",
              "      <td>[{'iso_639_1': 'en', 'name': 'English'}]</td>\n",
              "      <td>Released</td>\n",
              "      <td>I Love You... The Way You Are.</td>\n",
              "      <td>Leaving Las Vegas</td>\n",
              "      <td>7.1</td>\n",
              "      <td>365.0</td>\n",
              "      <td>[{'id': 30, 'name': 'individual'}, {'id': 549,...</td>\n",
              "    </tr>\n",
              "  </tbody>\n",
              "</table>\n",
              "</div>"
            ],
            "text/plain": [
              "   Unnamed: 0  ...                                           keywords\n",
              "0           9  ...  [{'id': 701, 'name': 'cuba'}, {'id': 769, 'nam...\n",
              "1          24  ...  [{'id': 30, 'name': 'individual'}, {'id': 549,...\n",
              "\n",
              "[2 rows x 21 columns]"
            ]
          },
          "metadata": {
            "tags": []
          },
          "execution_count": 45
        }
      ]
    },
    {
      "cell_type": "code",
      "metadata": {
        "id": "IVAmBDNBwrQX"
      },
      "source": [
        "del data['Unnamed: 0']"
      ],
      "execution_count": 46,
      "outputs": []
    },
    {
      "cell_type": "code",
      "metadata": {
        "colab": {
          "base_uri": "https://localhost:8080/"
        },
        "id": "UYMtyARNxbbP",
        "outputId": "94769d67-d106-45d9-edc0-6ee2fb78b946"
      },
      "source": [
        "df = data\n",
        "df.head(2)\n",
        "df.info()"
      ],
      "execution_count": 47,
      "outputs": [
        {
          "output_type": "stream",
          "text": [
            "<class 'pandas.core.frame.DataFrame'>\n",
            "RangeIndex: 4402 entries, 0 to 4401\n",
            "Data columns (total 20 columns):\n",
            " #   Column                Non-Null Count  Dtype  \n",
            "---  ------                --------------  -----  \n",
            " 0   budget                4402 non-null   int64  \n",
            " 1   genres                4402 non-null   object \n",
            " 2   homepage              4402 non-null   object \n",
            " 3   id                    4402 non-null   int64  \n",
            " 4   original_language     4402 non-null   object \n",
            " 5   original_title        4402 non-null   object \n",
            " 6   overview              4402 non-null   object \n",
            " 7   popularity            4402 non-null   float64\n",
            " 8   production_companies  4402 non-null   object \n",
            " 9   production_countries  4402 non-null   object \n",
            " 10  release_date          4402 non-null   object \n",
            " 11  revenue               4402 non-null   float64\n",
            " 12  runtime               4402 non-null   float64\n",
            " 13  spoken_languages      4402 non-null   object \n",
            " 14  status                4402 non-null   object \n",
            " 15  tagline               4402 non-null   object \n",
            " 16  title                 4402 non-null   object \n",
            " 17  vote_average          4402 non-null   float64\n",
            " 18  vote_count            4402 non-null   float64\n",
            " 19  keywords              4402 non-null   object \n",
            "dtypes: float64(5), int64(2), object(13)\n",
            "memory usage: 687.9+ KB\n"
          ],
          "name": "stdout"
        }
      ]
    },
    {
      "cell_type": "code",
      "metadata": {
        "colab": {
          "base_uri": "https://localhost:8080/",
          "height": 589
        },
        "id": "CrlvKdbi8nV8",
        "outputId": "3d036955-1fd7-4bf4-9f15-fad05af3bd16"
      },
      "source": [
        "###최종으로 사용할 데이터 (이전 메타데이터에서 실습데이터로 전처리)\n",
        "df = df[['id','genres', 'vote_average', 'vote_count','popularity','title',  'keywords', 'overview']]\n",
        "df.copy()"
      ],
      "execution_count": 48,
      "outputs": [
        {
          "output_type": "execute_result",
          "data": {
            "text/html": [
              "<div>\n",
              "<style scoped>\n",
              "    .dataframe tbody tr th:only-of-type {\n",
              "        vertical-align: middle;\n",
              "    }\n",
              "\n",
              "    .dataframe tbody tr th {\n",
              "        vertical-align: top;\n",
              "    }\n",
              "\n",
              "    .dataframe thead th {\n",
              "        text-align: right;\n",
              "    }\n",
              "</style>\n",
              "<table border=\"1\" class=\"dataframe\">\n",
              "  <thead>\n",
              "    <tr style=\"text-align: right;\">\n",
              "      <th></th>\n",
              "      <th>id</th>\n",
              "      <th>genres</th>\n",
              "      <th>vote_average</th>\n",
              "      <th>vote_count</th>\n",
              "      <th>popularity</th>\n",
              "      <th>title</th>\n",
              "      <th>keywords</th>\n",
              "      <th>overview</th>\n",
              "    </tr>\n",
              "  </thead>\n",
              "  <tbody>\n",
              "    <tr>\n",
              "      <th>0</th>\n",
              "      <td>710</td>\n",
              "      <td>[{'id': 12, 'name': 'Adventure'}, {'id': 28, '...</td>\n",
              "      <td>6.6</td>\n",
              "      <td>1194.0</td>\n",
              "      <td>14.686036</td>\n",
              "      <td>GoldenEye</td>\n",
              "      <td>[{'id': 701, 'name': 'cuba'}, {'id': 769, 'nam...</td>\n",
              "      <td>James Bond must unmask the mysterious head of ...</td>\n",
              "    </tr>\n",
              "    <tr>\n",
              "      <th>1</th>\n",
              "      <td>451</td>\n",
              "      <td>[{'id': 18, 'name': 'Drama'}, {'id': 10749, 'n...</td>\n",
              "      <td>7.1</td>\n",
              "      <td>365.0</td>\n",
              "      <td>10.332025</td>\n",
              "      <td>Leaving Las Vegas</td>\n",
              "      <td>[{'id': 30, 'name': 'individual'}, {'id': 549,...</td>\n",
              "      <td>Ben Sanderson, an alcoholic Hollywood screenwr...</td>\n",
              "    </tr>\n",
              "    <tr>\n",
              "      <th>2</th>\n",
              "      <td>807</td>\n",
              "      <td>[{'id': 80, 'name': 'Crime'}, {'id': 9648, 'na...</td>\n",
              "      <td>8.1</td>\n",
              "      <td>5915.0</td>\n",
              "      <td>18.457430</td>\n",
              "      <td>Se7en</td>\n",
              "      <td>[{'id': 476, 'name': 'self-fulfilling prophecy...</td>\n",
              "      <td>Two homicide detectives are on a desperate hun...</td>\n",
              "    </tr>\n",
              "    <tr>\n",
              "      <th>3</th>\n",
              "      <td>629</td>\n",
              "      <td>[{'id': 18, 'name': 'Drama'}, {'id': 80, 'name...</td>\n",
              "      <td>8.1</td>\n",
              "      <td>3334.0</td>\n",
              "      <td>16.302466</td>\n",
              "      <td>The Usual Suspects</td>\n",
              "      <td>[{'id': 3703, 'name': 'law'}, {'id': 5493, 'na...</td>\n",
              "      <td>Held in an L.A. interrogation room, Verbal Kin...</td>\n",
              "    </tr>\n",
              "    <tr>\n",
              "      <th>4</th>\n",
              "      <td>10634</td>\n",
              "      <td>[{'id': 35, 'name': 'Comedy'}]</td>\n",
              "      <td>7.0</td>\n",
              "      <td>513.0</td>\n",
              "      <td>14.569650</td>\n",
              "      <td>Friday</td>\n",
              "      <td>[{'id': 897, 'name': 'rap music'}, {'id': 970,...</td>\n",
              "      <td>Craig and Smokey are two guys in Los Angeles h...</td>\n",
              "    </tr>\n",
              "    <tr>\n",
              "      <th>...</th>\n",
              "      <td>...</td>\n",
              "      <td>...</td>\n",
              "      <td>...</td>\n",
              "      <td>...</td>\n",
              "      <td>...</td>\n",
              "      <td>...</td>\n",
              "      <td>...</td>\n",
              "      <td>...</td>\n",
              "    </tr>\n",
              "    <tr>\n",
              "      <th>4397</th>\n",
              "      <td>60153</td>\n",
              "      <td>[{'id': 35, 'name': 'Comedy'}, {'id': 99, 'nam...</td>\n",
              "      <td>7.5</td>\n",
              "      <td>2.0</td>\n",
              "      <td>0.084820</td>\n",
              "      <td>Hi Way</td>\n",
              "      <td>[{'id': 1462, 'name': 'samurai'}, {'id': 1859,...</td>\n",
              "      <td>Two young aspiring filmmakers, director Jaco a...</td>\n",
              "    </tr>\n",
              "    <tr>\n",
              "      <th>4398</th>\n",
              "      <td>383618</td>\n",
              "      <td>[{'id': 12, 'name': 'Adventure'}, {'id': 10751...</td>\n",
              "      <td>0.0</td>\n",
              "      <td>0.0</td>\n",
              "      <td>2.660047</td>\n",
              "      <td>Siv Sleeps Astray</td>\n",
              "      <td>[{'id': 1370, 'name': 'shapeshifting'}, {'id':...</td>\n",
              "      <td>Seven-year-old Siv’s first night sleeping over...</td>\n",
              "    </tr>\n",
              "    <tr>\n",
              "      <th>4399</th>\n",
              "      <td>103462</td>\n",
              "      <td>[]</td>\n",
              "      <td>0.0</td>\n",
              "      <td>0.0</td>\n",
              "      <td>0.017109</td>\n",
              "      <td>Grandma Lo-Fi</td>\n",
              "      <td>[]</td>\n",
              "      <td>At the tender age of 70 years, Sigrídur Níelsd...</td>\n",
              "    </tr>\n",
              "    <tr>\n",
              "      <th>4400</th>\n",
              "      <td>432789</td>\n",
              "      <td>[{'id': 10749, 'name': 'Romance'}, {'id': 35, ...</td>\n",
              "      <td>6.2</td>\n",
              "      <td>37.0</td>\n",
              "      <td>5.667067</td>\n",
              "      <td>The Incredible Jessica James</td>\n",
              "      <td>[{'id': 1419, 'name': 'gun'}, {'id': 1938, 'na...</td>\n",
              "      <td>Burned by a bad breakup, a struggling New York...</td>\n",
              "    </tr>\n",
              "    <tr>\n",
              "      <th>4401</th>\n",
              "      <td>97797</td>\n",
              "      <td>[{'id': 18, 'name': 'Drama'}, {'id': 27, 'name...</td>\n",
              "      <td>4.9</td>\n",
              "      <td>5.0</td>\n",
              "      <td>0.355732</td>\n",
              "      <td>Dead Daughters</td>\n",
              "      <td>[]</td>\n",
              "      <td>In present-day Moscow ghosts of three little g...</td>\n",
              "    </tr>\n",
              "  </tbody>\n",
              "</table>\n",
              "<p>4402 rows × 8 columns</p>\n",
              "</div>"
            ],
            "text/plain": [
              "          id  ...                                           overview\n",
              "0        710  ...  James Bond must unmask the mysterious head of ...\n",
              "1        451  ...  Ben Sanderson, an alcoholic Hollywood screenwr...\n",
              "2        807  ...  Two homicide detectives are on a desperate hun...\n",
              "3        629  ...  Held in an L.A. interrogation room, Verbal Kin...\n",
              "4      10634  ...  Craig and Smokey are two guys in Los Angeles h...\n",
              "...      ...  ...                                                ...\n",
              "4397   60153  ...  Two young aspiring filmmakers, director Jaco a...\n",
              "4398  383618  ...  Seven-year-old Siv’s first night sleeping over...\n",
              "4399  103462  ...  At the tender age of 70 years, Sigrídur Níelsd...\n",
              "4400  432789  ...  Burned by a bad breakup, a struggling New York...\n",
              "4401   97797  ...  In present-day Moscow ghosts of three little g...\n",
              "\n",
              "[4402 rows x 8 columns]"
            ]
          },
          "metadata": {
            "tags": []
          },
          "execution_count": 48
        }
      ]
    },
    {
      "cell_type": "markdown",
      "metadata": {
        "id": "GE4yt1wK8szq"
      },
      "source": [
        "# 평가 기준 조정 \n",
        "**영화 평점 vote_average에 대한 이슈**\n",
        "투표 결과가 많을 수록 평점이 낮아지는 이슈에 대한 해결 \n",
        "\n",
        "**( v / (v+m) * R ) + (m / (m + v) * C)** 을 이용한다.\n",
        "\n",
        "- r : 개별 영화 평점\n",
        "- v : 개별 영화에 평점을 투표한 횟수\n",
        "- m : 500위 안에 들어야 하는 최소 투표\n",
        "- c : 전체 영화에 대한 평균 평점\n",
        "\n",
        "\n",
        "**영화 후보군을 정하기 위한 상위선 기준**\n",
        "- 탑 500위 영화들은 상위 몇 퍼센트 영화인가? 답은 89%\n",
        "(상위 88%는 529회이기 때문에 89퍼센트으로 가정한다)"
      ]
    },
    {
      "cell_type": "markdown",
      "metadata": {
        "id": "v1Hv0jRmOBj9"
      },
      "source": [
        "#데이터 집계하기(C = column)\n",
        "- df.describe() = 컬럼 value에 대한 info\n",
        "- df['C'].quantile(퍼센트) = 백분율 값 리턴\n",
        "- df.grouby(['C']).count() = 건수\n",
        "- df.grouby(['C']).mean() = 평균\n",
        "- df.grouby(['C']).sum() = 합계\n",
        "- df.grouby(['C']).std() = 표준편차\n",
        "\n",
        "\n",
        "---\n",
        "###더 알아보기\n",
        "df.groupby(['C']) : 중복된 row 값으로 그룹별 value 리턴\n",
        "df.groupby(['지역'])['판매'].transform('count/mean/sum/std') = 지역별 판매 (집계 종류)\n",
        "\n"
      ]
    },
    {
      "cell_type": "code",
      "metadata": {
        "colab": {
          "base_uri": "https://localhost:8080/"
        },
        "id": "Moj43Rs9RvN8",
        "outputId": "bc5d5a42-30bd-493c-f993-2e45d826124a"
      },
      "source": [
        "# 백분율 88% 득표 값\n",
        "tmp_m = df['vote_count'].quantile(0.88)\n",
        "tmp_m "
      ],
      "execution_count": 49,
      "outputs": [
        {
          "output_type": "execute_result",
          "data": {
            "text/plain": [
              "1410.88"
            ]
          },
          "metadata": {
            "tags": []
          },
          "execution_count": 49
        }
      ]
    },
    {
      "cell_type": "code",
      "metadata": {
        "colab": {
          "base_uri": "https://localhost:8080/"
        },
        "id": "JAewHQ79R0UY",
        "outputId": "dc9bd004-5f66-4efb-9b16-f47ee5b807ab"
      },
      "source": [
        "#df에서 투표값이 1410.8보다 같거나 크다면 tmp_data로 정의한다\n",
        "tmp_data = df.copy().loc[df['vote_count'] >= tmp_m]\n",
        "print(tmp_data)\n",
        "tmp_data.shape #4402 중에서 529개가 있다"
      ],
      "execution_count": 68,
      "outputs": [
        {
          "output_type": "stream",
          "text": [
            "          id  ...                                           overview\n",
            "2        807  ...  Two homicide detectives are on a desperate hun...\n",
            "3        629  ...  Held in an L.A. interrogation room, Verbal Kin...\n",
            "5        755  ...  Seth Gecko and his younger brother Richard are...\n",
            "13        11  ...  Princess Leia is captured and held hostage by ...\n",
            "19      8587  ...  A young lion cub named Simba can't wait to be ...\n",
            "...      ...  ...                                                ...\n",
            "4252  337339  ...  When a mysterious woman seduces Dom into the w...\n",
            "4312  324852  ...  Gru and his wife Lucy must stop former '80s ch...\n",
            "4327  281338  ...  Caesar and his apes are forced into a deadly c...\n",
            "4345  374720  ...  The miraculous evacuation of Allied soldiers f...\n",
            "4362  335988  ...  Autobots and Decepticons are at war, with huma...\n",
            "\n",
            "[529 rows x 8 columns]\n"
          ],
          "name": "stdout"
        },
        {
          "output_type": "execute_result",
          "data": {
            "text/plain": [
              "(529, 8)"
            ]
          },
          "metadata": {
            "tags": []
          },
          "execution_count": 68
        }
      ]
    },
    {
      "cell_type": "code",
      "metadata": {
        "colab": {
          "base_uri": "https://localhost:8080/"
        },
        "id": "f-O4FySLdQuc",
        "outputId": "a08b4b1b-6523-4296-9581-efede7e71fa4"
      },
      "source": [
        "#상위 89퍼센트 총 485위 데이터\n",
        "m = df['vote_count'].quantile(0.89)\n",
        "\n",
        "#Fdata = Final Data\n",
        "Fdata = df.loc[df['vote_count'] >= m]\n",
        "Fdata.head()\n",
        "Fdata.info()\n",
        "\n",
        "C = Fdata['vote_average'].mean()\n",
        "print(C)\n",
        "print(m)"
      ],
      "execution_count": 69,
      "outputs": [
        {
          "output_type": "stream",
          "text": [
            "<class 'pandas.core.frame.DataFrame'>\n",
            "Int64Index: 485 entries, 2 to 4345\n",
            "Data columns (total 8 columns):\n",
            " #   Column        Non-Null Count  Dtype  \n",
            "---  ------        --------------  -----  \n",
            " 0   id            485 non-null    int64  \n",
            " 1   genres        485 non-null    object \n",
            " 2   vote_average  485 non-null    float64\n",
            " 3   vote_count    485 non-null    float64\n",
            " 4   popularity    485 non-null    float64\n",
            " 5   title         485 non-null    object \n",
            " 6   keywords      485 non-null    object \n",
            " 7   overview      485 non-null    object \n",
            "dtypes: float64(3), int64(1), object(4)\n",
            "memory usage: 34.1+ KB\n",
            "6.839999999999998\n",
            "1547.6699999999996\n"
          ],
          "name": "stdout"
        }
      ]
    },
    {
      "cell_type": "code",
      "metadata": {
        "id": "pNMhzx2Bf4Wg"
      },
      "source": [
        "def weighted_rating(x, m=m, C=C):\n",
        "    v = x['vote_count']\n",
        "    R = x['vote_average']\n",
        "    \n",
        "    return ( v / (v+m) * R ) + (m / (m + v) * C)"
      ],
      "execution_count": 70,
      "outputs": []
    },
    {
      "cell_type": "markdown",
      "metadata": {
        "id": "GSYl8rTVLSy0"
      },
      "source": [
        "#새로운 집계 column 추가\n",
        "df['C'] = df.apply(집계 종류, axis)"
      ]
    },
    {
      "cell_type": "code",
      "metadata": {
        "colab": {
          "base_uri": "https://localhost:8080/",
          "height": 391
        },
        "id": "AuDvr9JSg8El",
        "outputId": "771046f3-f3f6-4695-a63d-37c37fe30d50"
      },
      "source": [
        "#Weight Score 완성\n",
        "Fdata['score'] = Fdata.apply(weighted_rating, axis = 1)\n",
        "\n",
        "Fdata.head(5)\n",
        "#Fdata.info()"
      ],
      "execution_count": 71,
      "outputs": [
        {
          "output_type": "stream",
          "text": [
            "/usr/local/lib/python3.7/dist-packages/ipykernel_launcher.py:2: SettingWithCopyWarning: \n",
            "A value is trying to be set on a copy of a slice from a DataFrame.\n",
            "Try using .loc[row_indexer,col_indexer] = value instead\n",
            "\n",
            "See the caveats in the documentation: https://pandas.pydata.org/pandas-docs/stable/user_guide/indexing.html#returning-a-view-versus-a-copy\n",
            "  \n"
          ],
          "name": "stderr"
        },
        {
          "output_type": "execute_result",
          "data": {
            "text/html": [
              "<div>\n",
              "<style scoped>\n",
              "    .dataframe tbody tr th:only-of-type {\n",
              "        vertical-align: middle;\n",
              "    }\n",
              "\n",
              "    .dataframe tbody tr th {\n",
              "        vertical-align: top;\n",
              "    }\n",
              "\n",
              "    .dataframe thead th {\n",
              "        text-align: right;\n",
              "    }\n",
              "</style>\n",
              "<table border=\"1\" class=\"dataframe\">\n",
              "  <thead>\n",
              "    <tr style=\"text-align: right;\">\n",
              "      <th></th>\n",
              "      <th>id</th>\n",
              "      <th>genres</th>\n",
              "      <th>vote_average</th>\n",
              "      <th>vote_count</th>\n",
              "      <th>popularity</th>\n",
              "      <th>title</th>\n",
              "      <th>keywords</th>\n",
              "      <th>overview</th>\n",
              "      <th>score</th>\n",
              "    </tr>\n",
              "  </thead>\n",
              "  <tbody>\n",
              "    <tr>\n",
              "      <th>2</th>\n",
              "      <td>807</td>\n",
              "      <td>[{'id': 80, 'name': 'Crime'}, {'id': 9648, 'na...</td>\n",
              "      <td>8.1</td>\n",
              "      <td>5915.0</td>\n",
              "      <td>18.457430</td>\n",
              "      <td>Se7en</td>\n",
              "      <td>[{'id': 476, 'name': 'self-fulfilling prophecy...</td>\n",
              "      <td>Two homicide detectives are on a desperate hun...</td>\n",
              "      <td>7.838691</td>\n",
              "    </tr>\n",
              "    <tr>\n",
              "      <th>3</th>\n",
              "      <td>629</td>\n",
              "      <td>[{'id': 18, 'name': 'Drama'}, {'id': 80, 'name...</td>\n",
              "      <td>8.1</td>\n",
              "      <td>3334.0</td>\n",
              "      <td>16.302466</td>\n",
              "      <td>The Usual Suspects</td>\n",
              "      <td>[{'id': 3703, 'name': 'law'}, {'id': 5493, 'na...</td>\n",
              "      <td>Held in an L.A. interrogation room, Verbal Kin...</td>\n",
              "      <td>7.700533</td>\n",
              "    </tr>\n",
              "    <tr>\n",
              "      <th>5</th>\n",
              "      <td>755</td>\n",
              "      <td>[{'id': 27, 'name': 'Horror'}, {'id': 28, 'nam...</td>\n",
              "      <td>6.9</td>\n",
              "      <td>1644.0</td>\n",
              "      <td>15.339153</td>\n",
              "      <td>From Dusk Till Dawn</td>\n",
              "      <td>[{'id': 246, 'name': 'dancing'}, {'id': 380, '...</td>\n",
              "      <td>Seth Gecko and his younger brother Richard are...</td>\n",
              "      <td>6.870905</td>\n",
              "    </tr>\n",
              "    <tr>\n",
              "      <th>13</th>\n",
              "      <td>11</td>\n",
              "      <td>[{'id': 12, 'name': 'Adventure'}, {'id': 28, '...</td>\n",
              "      <td>8.1</td>\n",
              "      <td>6778.0</td>\n",
              "      <td>42.149697</td>\n",
              "      <td>Star Wars</td>\n",
              "      <td>[{'id': 803, 'name': 'android'}, {'id': 4270, ...</td>\n",
              "      <td>Princess Leia is captured and held hostage by ...</td>\n",
              "      <td>7.865777</td>\n",
              "    </tr>\n",
              "    <tr>\n",
              "      <th>19</th>\n",
              "      <td>8587</td>\n",
              "      <td>[{'id': 10751, 'name': 'Family'}, {'id': 16, '...</td>\n",
              "      <td>8.0</td>\n",
              "      <td>5520.0</td>\n",
              "      <td>21.605761</td>\n",
              "      <td>The Lion King</td>\n",
              "      <td>[{'id': 2143, 'name': 'loss of parents'}, {'id...</td>\n",
              "      <td>A young lion cub named Simba can't wait to be ...</td>\n",
              "      <td>7.745985</td>\n",
              "    </tr>\n",
              "  </tbody>\n",
              "</table>\n",
              "</div>"
            ],
            "text/plain": [
              "      id  ...     score\n",
              "2    807  ...  7.838691\n",
              "3    629  ...  7.700533\n",
              "5    755  ...  6.870905\n",
              "13    11  ...  7.865777\n",
              "19  8587  ...  7.745985\n",
              "\n",
              "[5 rows x 9 columns]"
            ]
          },
          "metadata": {
            "tags": []
          },
          "execution_count": 71
        }
      ]
    },
    {
      "cell_type": "code",
      "metadata": {
        "colab": {
          "base_uri": "https://localhost:8080/"
        },
        "id": "wfSLrpFugBi6",
        "outputId": "9063c6c1-2b37-4986-9fa1-d07c3fc06775"
      },
      "source": [
        "Fdata.shape"
      ],
      "execution_count": 72,
      "outputs": [
        {
          "output_type": "execute_result",
          "data": {
            "text/plain": [
              "(485, 9)"
            ]
          },
          "metadata": {
            "tags": []
          },
          "execution_count": 72
        }
      ]
    },
    {
      "cell_type": "code",
      "metadata": {
        "colab": {
          "base_uri": "https://localhost:8080/",
          "height": 111
        },
        "id": "gEFEkxIJKmqN",
        "outputId": "ba68280e-e756-4f65-b9ef-69320685f9e0"
      },
      "source": [
        "#딕셔너리 value 정리하기\n",
        "Fdata[['genres', 'keywords']].head(2)"
      ],
      "execution_count": 73,
      "outputs": [
        {
          "output_type": "execute_result",
          "data": {
            "text/html": [
              "<div>\n",
              "<style scoped>\n",
              "    .dataframe tbody tr th:only-of-type {\n",
              "        vertical-align: middle;\n",
              "    }\n",
              "\n",
              "    .dataframe tbody tr th {\n",
              "        vertical-align: top;\n",
              "    }\n",
              "\n",
              "    .dataframe thead th {\n",
              "        text-align: right;\n",
              "    }\n",
              "</style>\n",
              "<table border=\"1\" class=\"dataframe\">\n",
              "  <thead>\n",
              "    <tr style=\"text-align: right;\">\n",
              "      <th></th>\n",
              "      <th>genres</th>\n",
              "      <th>keywords</th>\n",
              "    </tr>\n",
              "  </thead>\n",
              "  <tbody>\n",
              "    <tr>\n",
              "      <th>2</th>\n",
              "      <td>[{'id': 80, 'name': 'Crime'}, {'id': 9648, 'na...</td>\n",
              "      <td>[{'id': 476, 'name': 'self-fulfilling prophecy...</td>\n",
              "    </tr>\n",
              "    <tr>\n",
              "      <th>3</th>\n",
              "      <td>[{'id': 18, 'name': 'Drama'}, {'id': 80, 'name...</td>\n",
              "      <td>[{'id': 3703, 'name': 'law'}, {'id': 5493, 'na...</td>\n",
              "    </tr>\n",
              "  </tbody>\n",
              "</table>\n",
              "</div>"
            ],
            "text/plain": [
              "                                              genres                                           keywords\n",
              "2  [{'id': 80, 'name': 'Crime'}, {'id': 9648, 'na...  [{'id': 476, 'name': 'self-fulfilling prophecy...\n",
              "3  [{'id': 18, 'name': 'Drama'}, {'id': 80, 'name...  [{'id': 3703, 'name': 'law'}, {'id': 5493, 'na..."
            ]
          },
          "metadata": {
            "tags": []
          },
          "execution_count": 73
        }
      ]
    },
    {
      "cell_type": "markdown",
      "metadata": {
        "id": "NIb0oBMVN_gW"
      },
      "source": [
        "##from ast import literal_eval\n",
        "- df.apply(liter_eval) : syntax를 구조화 해주는 함수"
      ]
    },
    {
      "cell_type": "code",
      "metadata": {
        "colab": {
          "base_uri": "https://localhost:8080/"
        },
        "id": "aj_HeoJMMEul",
        "outputId": "f53f2ce5-88a5-45bb-c5a4-353ec3565f7d"
      },
      "source": [
        "Fdata['genres'] = Fdata['genres'].apply(literal_eval)\n",
        "Fdata['keywords'] = Fdata['keywords'].apply(literal_eval)"
      ],
      "execution_count": 74,
      "outputs": [
        {
          "output_type": "stream",
          "text": [
            "/usr/local/lib/python3.7/dist-packages/ipykernel_launcher.py:1: SettingWithCopyWarning: \n",
            "A value is trying to be set on a copy of a slice from a DataFrame.\n",
            "Try using .loc[row_indexer,col_indexer] = value instead\n",
            "\n",
            "See the caveats in the documentation: https://pandas.pydata.org/pandas-docs/stable/user_guide/indexing.html#returning-a-view-versus-a-copy\n",
            "  \"\"\"Entry point for launching an IPython kernel.\n",
            "/usr/local/lib/python3.7/dist-packages/ipykernel_launcher.py:2: SettingWithCopyWarning: \n",
            "A value is trying to be set on a copy of a slice from a DataFrame.\n",
            "Try using .loc[row_indexer,col_indexer] = value instead\n",
            "\n",
            "See the caveats in the documentation: https://pandas.pydata.org/pandas-docs/stable/user_guide/indexing.html#returning-a-view-versus-a-copy\n",
            "  \n"
          ],
          "name": "stderr"
        }
      ]
    },
    {
      "cell_type": "code",
      "metadata": {
        "colab": {
          "base_uri": "https://localhost:8080/",
          "height": 111
        },
        "id": "3bs9GYmcNbSw",
        "outputId": "61ddbab5-c4f5-4dae-e21e-7785416199a2"
      },
      "source": [
        "Fdata[['genres', 'keywords']].head(2)"
      ],
      "execution_count": 75,
      "outputs": [
        {
          "output_type": "execute_result",
          "data": {
            "text/html": [
              "<div>\n",
              "<style scoped>\n",
              "    .dataframe tbody tr th:only-of-type {\n",
              "        vertical-align: middle;\n",
              "    }\n",
              "\n",
              "    .dataframe tbody tr th {\n",
              "        vertical-align: top;\n",
              "    }\n",
              "\n",
              "    .dataframe thead th {\n",
              "        text-align: right;\n",
              "    }\n",
              "</style>\n",
              "<table border=\"1\" class=\"dataframe\">\n",
              "  <thead>\n",
              "    <tr style=\"text-align: right;\">\n",
              "      <th></th>\n",
              "      <th>genres</th>\n",
              "      <th>keywords</th>\n",
              "    </tr>\n",
              "  </thead>\n",
              "  <tbody>\n",
              "    <tr>\n",
              "      <th>2</th>\n",
              "      <td>[{'id': 80, 'name': 'Crime'}, {'id': 9648, 'na...</td>\n",
              "      <td>[{'id': 476, 'name': 'self-fulfilling prophecy...</td>\n",
              "    </tr>\n",
              "    <tr>\n",
              "      <th>3</th>\n",
              "      <td>[{'id': 18, 'name': 'Drama'}, {'id': 80, 'name...</td>\n",
              "      <td>[{'id': 3703, 'name': 'law'}, {'id': 5493, 'na...</td>\n",
              "    </tr>\n",
              "  </tbody>\n",
              "</table>\n",
              "</div>"
            ],
            "text/plain": [
              "                                              genres                                           keywords\n",
              "2  [{'id': 80, 'name': 'Crime'}, {'id': 9648, 'na...  [{'id': 476, 'name': 'self-fulfilling prophecy...\n",
              "3  [{'id': 18, 'name': 'Drama'}, {'id': 80, 'name...  [{'id': 3703, 'name': 'law'}, {'id': 5493, 'na..."
            ]
          },
          "metadata": {
            "tags": []
          },
          "execution_count": 75
        }
      ]
    },
    {
      "cell_type": "code",
      "metadata": {
        "colab": {
          "base_uri": "https://localhost:8080/"
        },
        "id": "lEjt8LNpOgkI",
        "outputId": "67c4819e-152a-4565-c3de-c55219917bb4"
      },
      "source": [
        "#name 컬럼만 추출\n",
        "Fdata['genres'] = Fdata['genres'].apply(lambda x : [d['name'] for d in x]).apply(lambda x : \" \".join(x))\n",
        "Fdata['keywords'] = Fdata['keywords'].apply(lambda x : [d['name'] for d in x]).apply(lambda x : \" \".join(x))\n"
      ],
      "execution_count": 76,
      "outputs": [
        {
          "output_type": "stream",
          "text": [
            "/usr/local/lib/python3.7/dist-packages/ipykernel_launcher.py:2: SettingWithCopyWarning: \n",
            "A value is trying to be set on a copy of a slice from a DataFrame.\n",
            "Try using .loc[row_indexer,col_indexer] = value instead\n",
            "\n",
            "See the caveats in the documentation: https://pandas.pydata.org/pandas-docs/stable/user_guide/indexing.html#returning-a-view-versus-a-copy\n",
            "  \n",
            "/usr/local/lib/python3.7/dist-packages/ipykernel_launcher.py:3: SettingWithCopyWarning: \n",
            "A value is trying to be set on a copy of a slice from a DataFrame.\n",
            "Try using .loc[row_indexer,col_indexer] = value instead\n",
            "\n",
            "See the caveats in the documentation: https://pandas.pydata.org/pandas-docs/stable/user_guide/indexing.html#returning-a-view-versus-a-copy\n",
            "  This is separate from the ipykernel package so we can avoid doing imports until\n"
          ],
          "name": "stderr"
        }
      ]
    },
    {
      "cell_type": "code",
      "metadata": {
        "colab": {
          "base_uri": "https://localhost:8080/",
          "height": 111
        },
        "id": "7fP5UX0uPCnO",
        "outputId": "5bdfde49-0207-4e4a-8db0-2b55712f84aa"
      },
      "source": [
        "Fdata.head(2)"
      ],
      "execution_count": 78,
      "outputs": [
        {
          "output_type": "execute_result",
          "data": {
            "text/html": [
              "<div>\n",
              "<style scoped>\n",
              "    .dataframe tbody tr th:only-of-type {\n",
              "        vertical-align: middle;\n",
              "    }\n",
              "\n",
              "    .dataframe tbody tr th {\n",
              "        vertical-align: top;\n",
              "    }\n",
              "\n",
              "    .dataframe thead th {\n",
              "        text-align: right;\n",
              "    }\n",
              "</style>\n",
              "<table border=\"1\" class=\"dataframe\">\n",
              "  <thead>\n",
              "    <tr style=\"text-align: right;\">\n",
              "      <th></th>\n",
              "      <th>id</th>\n",
              "      <th>genres</th>\n",
              "      <th>vote_average</th>\n",
              "      <th>vote_count</th>\n",
              "      <th>popularity</th>\n",
              "      <th>title</th>\n",
              "      <th>keywords</th>\n",
              "      <th>overview</th>\n",
              "      <th>score</th>\n",
              "    </tr>\n",
              "  </thead>\n",
              "  <tbody>\n",
              "    <tr>\n",
              "      <th>2</th>\n",
              "      <td>807</td>\n",
              "      <td>Crime Mystery Thriller</td>\n",
              "      <td>8.1</td>\n",
              "      <td>5915.0</td>\n",
              "      <td>18.457430</td>\n",
              "      <td>Se7en</td>\n",
              "      <td>self-fulfilling prophecy detective s.w.a.t. dr...</td>\n",
              "      <td>Two homicide detectives are on a desperate hun...</td>\n",
              "      <td>7.838691</td>\n",
              "    </tr>\n",
              "    <tr>\n",
              "      <th>3</th>\n",
              "      <td>629</td>\n",
              "      <td>Drama Crime Thriller</td>\n",
              "      <td>8.1</td>\n",
              "      <td>3334.0</td>\n",
              "      <td>16.302466</td>\n",
              "      <td>The Usual Suspects</td>\n",
              "      <td>law relatives theft criminal criminal mastermi...</td>\n",
              "      <td>Held in an L.A. interrogation room, Verbal Kin...</td>\n",
              "      <td>7.700533</td>\n",
              "    </tr>\n",
              "  </tbody>\n",
              "</table>\n",
              "</div>"
            ],
            "text/plain": [
              "    id  ...     score\n",
              "2  807  ...  7.838691\n",
              "3  629  ...  7.700533\n",
              "\n",
              "[2 rows x 9 columns]"
            ]
          },
          "metadata": {
            "tags": []
          },
          "execution_count": 78
        }
      ]
    },
    {
      "cell_type": "code",
      "metadata": {
        "id": "flXh_yM0PXHZ"
      },
      "source": [
        "Fdata.to_csv('/content/drive/My Drive/Colab Notebooks/data/RCS_data/01data_2.csv', index = False)\n"
      ],
      "execution_count": 80,
      "outputs": []
    }
  ]
}