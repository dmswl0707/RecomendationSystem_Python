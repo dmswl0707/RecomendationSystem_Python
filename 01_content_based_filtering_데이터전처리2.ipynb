{
  "nbformat": 4,
  "nbformat_minor": 0,
  "metadata": {
    "colab": {
      "name": "01_content_based_filtering_데이터전처리2.ipynb",
      "private_outputs": true,
      "provenance": [],
      "authorship_tag": "ABX9TyPkjf85mZJgmxMh9Slvrn9k",
      "include_colab_link": true
    },
    "kernelspec": {
      "name": "python3",
      "display_name": "Python 3"
    }
  },
  "cells": [
    {
      "cell_type": "markdown",
      "metadata": {
        "id": "view-in-github",
        "colab_type": "text"
      },
      "source": [
        "<a href=\"https://colab.research.google.com/github/dmswl0707/content_based_filtering_RecomendationSystem/blob/main/01_content_based_filtering_%EB%8D%B0%EC%9D%B4%ED%84%B0%EC%A0%84%EC%B2%98%EB%A6%AC2.ipynb\" target=\"_parent\"><img src=\"https://colab.research.google.com/assets/colab-badge.svg\" alt=\"Open In Colab\"/></a>"
      ]
    },
    {
      "cell_type": "code",
      "metadata": {
        "id": "p3-6d5mHrAnk"
      },
      "source": [
        "import pandas as pd\n",
        "import numpy as np\n",
        "import matplotlib.pyplot as plt\n",
        "import seaborn as sns\n",
        "from ast import literal_eval\n",
        "from sklearn.feature_extraction.text import TfidfVectorizer\n",
        "from sklearn.feature_extraction.text import CountVectorizer\n",
        "from sklearn.metrics.pairwise import cosine_similarity"
      ],
      "execution_count": null,
      "outputs": []
    },
    {
      "cell_type": "code",
      "metadata": {
        "id": "mTMlW7SPrZsR"
      },
      "source": [
        "from google.colab import drive\n",
        "drive.mount('/content/drive')\n",
        "data = pd.read_csv('/content/drive/My Drive/Colab Notebooks/data/RCS_data/01data.csv')\n",
        "data.head(2)"
      ],
      "execution_count": null,
      "outputs": []
    },
    {
      "cell_type": "code",
      "metadata": {
        "id": "IVAmBDNBwrQX"
      },
      "source": [
        "del data['Unnamed: 0']"
      ],
      "execution_count": null,
      "outputs": []
    },
    {
      "cell_type": "code",
      "metadata": {
        "id": "UYMtyARNxbbP"
      },
      "source": [
        "df = data\n",
        "df.head(2)\n",
        "df.info()"
      ],
      "execution_count": null,
      "outputs": []
    },
    {
      "cell_type": "code",
      "metadata": {
        "id": "CrlvKdbi8nV8"
      },
      "source": [
        "###최종으로 사용할 데이터 (이전 메타데이터에서 실습데이터로 전처리)\n",
        "df = df[['id','genres', 'vote_average', 'vote_count','popularity','title',  'keywords', 'overview']]\n",
        "df.copy()"
      ],
      "execution_count": null,
      "outputs": []
    },
    {
      "cell_type": "markdown",
      "metadata": {
        "id": "GE4yt1wK8szq"
      },
      "source": [
        "# 평가 기준 조정 \n",
        "**영화 평점 vote_average에 대한 이슈**\n",
        "투표 결과가 많을 수록 평점이 낮아지는 이슈에 대한 해결 \n",
        "\n",
        "**( v / (v+m) * R ) + (m / (m + v) * C)** 을 이용한다.\n",
        "\n",
        "- r : 개별 영화 평점\n",
        "- v : 개별 영화에 평점을 투표한 횟수\n",
        "- m : 500위 안에 들어야 하는 최소 투표\n",
        "- c : 전체 영화에 대한 평균 평점\n",
        "\n",
        "\n",
        "**영화 후보군을 정하기 위한 상위선 기준**\n",
        "- 탑 500위 영화들은 상위 몇 퍼센트 영화인가? 답은 89%\n",
        "(상위 88%는 529회이기 때문에 89퍼센트으로 가정한다)"
      ]
    },
    {
      "cell_type": "markdown",
      "metadata": {
        "id": "v1Hv0jRmOBj9"
      },
      "source": [
        "#데이터 집계하기(C = column)\n",
        "- df.describe() = 컬럼 value에 대한 info\n",
        "- df['C'].quantile(퍼센트) = 백분율 값 리턴\n",
        "- df.grouby(['C']).count() = 건수\n",
        "- df.grouby(['C']).mean() = 평균\n",
        "- df.grouby(['C']).sum() = 합계\n",
        "- df.grouby(['C']).std() = 표준편차\n",
        "\n",
        "\n",
        "---\n",
        "###더 알아보기\n",
        "df.groupby(['C']) : 중복된 row 값으로 그룹별 value 리턴\n",
        "df.groupby(['지역'])['판매'].transform('count/mean/sum/std') = 지역별 판매 (집계 종류)\n",
        "\n"
      ]
    },
    {
      "cell_type": "code",
      "metadata": {
        "id": "Moj43Rs9RvN8"
      },
      "source": [
        "# 백분율 88% 득표 값\n",
        "tmp_m = df['vote_count'].quantile(0.88)\n",
        "tmp_m "
      ],
      "execution_count": null,
      "outputs": []
    },
    {
      "cell_type": "code",
      "metadata": {
        "id": "JAewHQ79R0UY"
      },
      "source": [
        "#df에서 투표값이 1410.8보다 같거나 크다면 tmp_data로 정의한다\n",
        "tmp_data = df.copy().loc[df['vote_count'] >= tmp_m]\n",
        "print(tmp_data)\n",
        "tmp_data.shape #4402 중에서 529개가 있다"
      ],
      "execution_count": null,
      "outputs": []
    },
    {
      "cell_type": "code",
      "metadata": {
        "id": "f-O4FySLdQuc"
      },
      "source": [
        "#상위 89퍼센트 총 485위 데이터\n",
        "m = df['vote_count'].quantile(0.89)\n",
        "data = df.loc[df['vote_count'] >= m]\n",
        "data.head()\n",
        "data.info()\n",
        "\n",
        "C = data['vote_average'].mean()\n",
        "print(C)\n",
        "print(m)"
      ],
      "execution_count": null,
      "outputs": []
    },
    {
      "cell_type": "code",
      "metadata": {
        "id": "pNMhzx2Bf4Wg"
      },
      "source": [
        "def weighted_rating(x, m=m, C=C):\n",
        "    v = x['vote_count']\n",
        "    R = x['vote_average']\n",
        "    \n",
        "    return ( v / (v+m) * R ) + (m / (m + v) * C)"
      ],
      "execution_count": null,
      "outputs": []
    },
    {
      "cell_type": "code",
      "metadata": {
        "id": "AuDvr9JSg8El"
      },
      "source": [
        "data['score'] = data.apply(weighted_rating, axis = 1)\n",
        "\n",
        "data.head(5)\n",
        "data.info()"
      ],
      "execution_count": null,
      "outputs": []
    },
    {
      "cell_type": "code",
      "metadata": {
        "id": "wfSLrpFugBi6"
      },
      "source": [
        ""
      ],
      "execution_count": null,
      "outputs": []
    }
  ]
}